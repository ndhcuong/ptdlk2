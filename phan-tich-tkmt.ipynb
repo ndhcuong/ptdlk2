{
 "cells": [
  {
   "cell_type": "markdown",
   "id": "93ead8a9",
   "metadata": {},
   "source": [
    "Sử dụng thư viện pandas để quản lý và phân tích dữ liệu"
   ]
  },
  {
   "cell_type": "code",
   "execution_count": 1,
   "id": "989f412a",
   "metadata": {},
   "outputs": [],
   "source": [
    "import pandas as pd"
   ]
  },
  {
   "cell_type": "markdown",
   "id": "0faee458",
   "metadata": {},
   "source": [
    "Đọc tập dữ liệu state.csv"
   ]
  },
  {
   "cell_type": "code",
   "execution_count": 2,
   "id": "f7b0443a",
   "metadata": {},
   "outputs": [],
   "source": [
    "df = pd.read_csv('state.csv')"
   ]
  },
  {
   "cell_type": "markdown",
   "id": "eea7ecb0",
   "metadata": {},
   "source": [
    "Hiển thị các thông số cơ bản của tập dữ liệu"
   ]
  },
  {
   "cell_type": "code",
   "execution_count": 3,
   "id": "fe9577e3",
   "metadata": {},
   "outputs": [
    {
     "data": {
      "text/html": [
       "<div>\n",
       "<style scoped>\n",
       "    .dataframe tbody tr th:only-of-type {\n",
       "        vertical-align: middle;\n",
       "    }\n",
       "\n",
       "    .dataframe tbody tr th {\n",
       "        vertical-align: top;\n",
       "    }\n",
       "\n",
       "    .dataframe thead th {\n",
       "        text-align: right;\n",
       "    }\n",
       "</style>\n",
       "<table border=\"1\" class=\"dataframe\">\n",
       "  <thead>\n",
       "    <tr style=\"text-align: right;\">\n",
       "      <th></th>\n",
       "      <th>State</th>\n",
       "      <th>Population</th>\n",
       "      <th>Murder.Rate</th>\n",
       "      <th>Abbreviation</th>\n",
       "    </tr>\n",
       "  </thead>\n",
       "  <tbody>\n",
       "    <tr>\n",
       "      <th>0</th>\n",
       "      <td>Alabama</td>\n",
       "      <td>4779736</td>\n",
       "      <td>5.7</td>\n",
       "      <td>AL</td>\n",
       "    </tr>\n",
       "    <tr>\n",
       "      <th>1</th>\n",
       "      <td>Alaska</td>\n",
       "      <td>710231</td>\n",
       "      <td>5.6</td>\n",
       "      <td>AK</td>\n",
       "    </tr>\n",
       "    <tr>\n",
       "      <th>2</th>\n",
       "      <td>Arizona</td>\n",
       "      <td>6392017</td>\n",
       "      <td>4.7</td>\n",
       "      <td>AZ</td>\n",
       "    </tr>\n",
       "    <tr>\n",
       "      <th>3</th>\n",
       "      <td>Arkansas</td>\n",
       "      <td>2915918</td>\n",
       "      <td>5.6</td>\n",
       "      <td>AR</td>\n",
       "    </tr>\n",
       "    <tr>\n",
       "      <th>4</th>\n",
       "      <td>California</td>\n",
       "      <td>37253956</td>\n",
       "      <td>4.4</td>\n",
       "      <td>CA</td>\n",
       "    </tr>\n",
       "  </tbody>\n",
       "</table>\n",
       "</div>"
      ],
      "text/plain": [
       "        State  Population  Murder.Rate Abbreviation\n",
       "0     Alabama     4779736          5.7           AL\n",
       "1      Alaska      710231          5.6           AK\n",
       "2     Arizona     6392017          4.7           AZ\n",
       "3    Arkansas     2915918          5.6           AR\n",
       "4  California    37253956          4.4           CA"
      ]
     },
     "execution_count": 3,
     "metadata": {},
     "output_type": "execute_result"
    }
   ],
   "source": [
    "df.head()"
   ]
  },
  {
   "cell_type": "code",
   "execution_count": 5,
   "id": "7ce85e2d",
   "metadata": {},
   "outputs": [
    {
     "data": {
      "text/plain": [
       "(50, 4)"
      ]
     },
     "execution_count": 5,
     "metadata": {},
     "output_type": "execute_result"
    }
   ],
   "source": [
    "df.shape"
   ]
  },
  {
   "cell_type": "markdown",
   "id": "a4d76317",
   "metadata": {},
   "source": [
    "Ghi chú: Nếu có cột dữ liệu ID/STT thì loại bỏ cột này vì không có ý nghĩa khi phân tích dữ liệu"
   ]
  },
  {
   "cell_type": "markdown",
   "id": "3d351540",
   "metadata": {},
   "source": [
    "PHÂN TÍCH DỮ LIỆU ĐỊNH LƯỢNG"
   ]
  },
  {
   "cell_type": "markdown",
   "id": "55321c02",
   "metadata": {},
   "source": [
    "Sao chép các cột dữ liệu định lượng sang 1 dataframe khác (Khi thành thạo có thể không cần thực hiện thao tác sao chép này)"
   ]
  },
  {
   "cell_type": "code",
   "execution_count": 6,
   "id": "18c6505f",
   "metadata": {},
   "outputs": [
    {
     "data": {
      "text/html": [
       "<div>\n",
       "<style scoped>\n",
       "    .dataframe tbody tr th:only-of-type {\n",
       "        vertical-align: middle;\n",
       "    }\n",
       "\n",
       "    .dataframe tbody tr th {\n",
       "        vertical-align: top;\n",
       "    }\n",
       "\n",
       "    .dataframe thead th {\n",
       "        text-align: right;\n",
       "    }\n",
       "</style>\n",
       "<table border=\"1\" class=\"dataframe\">\n",
       "  <thead>\n",
       "    <tr style=\"text-align: right;\">\n",
       "      <th></th>\n",
       "      <th>Population</th>\n",
       "      <th>Murder.Rate</th>\n",
       "    </tr>\n",
       "  </thead>\n",
       "  <tbody>\n",
       "    <tr>\n",
       "      <th>0</th>\n",
       "      <td>4779736</td>\n",
       "      <td>5.7</td>\n",
       "    </tr>\n",
       "    <tr>\n",
       "      <th>1</th>\n",
       "      <td>710231</td>\n",
       "      <td>5.6</td>\n",
       "    </tr>\n",
       "    <tr>\n",
       "      <th>2</th>\n",
       "      <td>6392017</td>\n",
       "      <td>4.7</td>\n",
       "    </tr>\n",
       "    <tr>\n",
       "      <th>3</th>\n",
       "      <td>2915918</td>\n",
       "      <td>5.6</td>\n",
       "    </tr>\n",
       "    <tr>\n",
       "      <th>4</th>\n",
       "      <td>37253956</td>\n",
       "      <td>4.4</td>\n",
       "    </tr>\n",
       "  </tbody>\n",
       "</table>\n",
       "</div>"
      ],
      "text/plain": [
       "   Population  Murder.Rate\n",
       "0     4779736          5.7\n",
       "1      710231          5.6\n",
       "2     6392017          4.7\n",
       "3     2915918          5.6\n",
       "4    37253956          4.4"
      ]
     },
     "execution_count": 6,
     "metadata": {},
     "output_type": "execute_result"
    }
   ],
   "source": [
    "df_dl = pd.DataFrame(columns = ['Population', 'Murder.Rate'], data = df)\n",
    "df_dl.head()"
   ]
  },
  {
   "cell_type": "code",
   "execution_count": 7,
   "id": "5bfd1bc2",
   "metadata": {},
   "outputs": [
    {
     "data": {
      "text/plain": [
       "(50, 2)"
      ]
     },
     "execution_count": 7,
     "metadata": {},
     "output_type": "execute_result"
    }
   ],
   "source": [
    "df_dl.shape"
   ]
  },
  {
   "cell_type": "markdown",
   "id": "4a204bb4",
   "metadata": {},
   "source": [
    "Tính các thông số thống kê định lượng"
   ]
  },
  {
   "cell_type": "code",
   "execution_count": 8,
   "id": "fc80e3cd",
   "metadata": {},
   "outputs": [
    {
     "name": "stdout",
     "output_type": "stream",
     "text": [
      "Giá trị trung bình:  6162876.3 ;  4.066\n"
     ]
    }
   ],
   "source": [
    "print('Giá trị trung bình: ', df_dl['Population'].mean(), \"; \", df_dl['Murder.Rate'].mean())"
   ]
  },
  {
   "cell_type": "code",
   "execution_count": 11,
   "id": "0a5117d7",
   "metadata": {},
   "outputs": [
    {
     "name": "stdout",
     "output_type": "stream",
     "text": [
      "Giá trị lớn nhất:  37253956 ;  10.3\n"
     ]
    }
   ],
   "source": [
    "print('Giá trị lớn nhất: ', df_dl['Population'].max(), \"; \", df_dl['Murder.Rate'].max())"
   ]
  },
  {
   "cell_type": "code",
   "execution_count": 12,
   "id": "67dd66a5",
   "metadata": {},
   "outputs": [
    {
     "name": "stdout",
     "output_type": "stream",
     "text": [
      "Giá trị nhỏ nhất:  563626 ;  0.9\n"
     ]
    }
   ],
   "source": [
    "print('Giá trị nhỏ nhất: ', df_dl['Population'].min(), \"; \", df_dl['Murder.Rate'].min())"
   ]
  },
  {
   "cell_type": "code",
   "execution_count": 9,
   "id": "3b7acb8b",
   "metadata": {},
   "outputs": [
    {
     "name": "stdout",
     "output_type": "stream",
     "text": [
      "Độ lệch chuẩn:  6848235.347401142 ;  1.915736124302923\n"
     ]
    }
   ],
   "source": [
    "print('Độ lệch chuẩn: ', df_dl['Population'].std(), \"; \", df_dl['Murder.Rate'].std())"
   ]
  },
  {
   "cell_type": "code",
   "execution_count": 10,
   "id": "bfe282f0",
   "metadata": {},
   "outputs": [
    {
     "name": "stdout",
     "output_type": "stream",
     "text": [
      "Phương sai:  46898327373394.445 ;  3.670044897959184\n"
     ]
    }
   ],
   "source": [
    "print('Phương sai: ', df_dl['Population'].var(), \"; \", df_dl['Murder.Rate'].var())"
   ]
  },
  {
   "cell_type": "code",
   "execution_count": 13,
   "id": "e4a444c4",
   "metadata": {},
   "outputs": [
    {
     "name": "stdout",
     "output_type": "stream",
     "text": [
      "Q1 của  Population 1833004.25 ; của Murder.Rate 2.425\n"
     ]
    }
   ],
   "source": [
    "print('Q1 của  Population', df_dl['Population'].quantile(0.25), \"; của Murder.Rate\", df_dl['Murder.Rate'].quantile(0.25))"
   ]
  },
  {
   "cell_type": "code",
   "execution_count": 14,
   "id": "6bd4cbbb",
   "metadata": {},
   "outputs": [
    {
     "name": "stdout",
     "output_type": "stream",
     "text": [
      "Q2 của  Population 4436369.5 ; của Murder.Rate 4.0\n"
     ]
    }
   ],
   "source": [
    "print('Q2 của  Population', df_dl['Population'].quantile(0.50), \"; của Murder.Rate\", df_dl['Murder.Rate'].quantile(0.50))"
   ]
  },
  {
   "cell_type": "code",
   "execution_count": 15,
   "id": "e5ac0258",
   "metadata": {},
   "outputs": [
    {
     "name": "stdout",
     "output_type": "stream",
     "text": [
      "Q3 của  Population 6680312.25 ; của Murder.Rate 5.55\n"
     ]
    }
   ],
   "source": [
    "print('Q3 của  Population', df_dl['Population'].quantile(0.75), \"; của Murder.Rate\", df_dl['Murder.Rate'].quantile(0.75))"
   ]
  },
  {
   "cell_type": "code",
   "execution_count": 16,
   "id": "c20d0c80",
   "metadata": {},
   "outputs": [
    {
     "name": "stdout",
     "output_type": "stream",
     "text": [
      "IQR  4847308.0 ;  3.125\n"
     ]
    }
   ],
   "source": [
    "print('IQR ',df_dl['Population'].quantile(0.75) - df_dl['Population'].quantile(0.25), \"; \", df_dl['Murder.Rate'].quantile(0.75) - df_dl['Murder.Rate'].quantile(0.25) )"
   ]
  },
  {
   "cell_type": "markdown",
   "id": "9c9efc9e",
   "metadata": {},
   "source": [
    "Có thể thay các phép tính riêng biệt trên bằng cách sử dụng hàm describe"
   ]
  },
  {
   "cell_type": "code",
   "execution_count": 18,
   "id": "8c74d841",
   "metadata": {},
   "outputs": [
    {
     "data": {
      "text/html": [
       "<div>\n",
       "<style scoped>\n",
       "    .dataframe tbody tr th:only-of-type {\n",
       "        vertical-align: middle;\n",
       "    }\n",
       "\n",
       "    .dataframe tbody tr th {\n",
       "        vertical-align: top;\n",
       "    }\n",
       "\n",
       "    .dataframe thead th {\n",
       "        text-align: right;\n",
       "    }\n",
       "</style>\n",
       "<table border=\"1\" class=\"dataframe\">\n",
       "  <thead>\n",
       "    <tr style=\"text-align: right;\">\n",
       "      <th></th>\n",
       "      <th>Population</th>\n",
       "      <th>Murder.Rate</th>\n",
       "    </tr>\n",
       "  </thead>\n",
       "  <tbody>\n",
       "    <tr>\n",
       "      <th>count</th>\n",
       "      <td>5.000000e+01</td>\n",
       "      <td>50.000000</td>\n",
       "    </tr>\n",
       "    <tr>\n",
       "      <th>mean</th>\n",
       "      <td>6.162876e+06</td>\n",
       "      <td>4.066000</td>\n",
       "    </tr>\n",
       "    <tr>\n",
       "      <th>std</th>\n",
       "      <td>6.848235e+06</td>\n",
       "      <td>1.915736</td>\n",
       "    </tr>\n",
       "    <tr>\n",
       "      <th>min</th>\n",
       "      <td>5.636260e+05</td>\n",
       "      <td>0.900000</td>\n",
       "    </tr>\n",
       "    <tr>\n",
       "      <th>25%</th>\n",
       "      <td>1.833004e+06</td>\n",
       "      <td>2.425000</td>\n",
       "    </tr>\n",
       "    <tr>\n",
       "      <th>50%</th>\n",
       "      <td>4.436370e+06</td>\n",
       "      <td>4.000000</td>\n",
       "    </tr>\n",
       "    <tr>\n",
       "      <th>75%</th>\n",
       "      <td>6.680312e+06</td>\n",
       "      <td>5.550000</td>\n",
       "    </tr>\n",
       "    <tr>\n",
       "      <th>max</th>\n",
       "      <td>3.725396e+07</td>\n",
       "      <td>10.300000</td>\n",
       "    </tr>\n",
       "  </tbody>\n",
       "</table>\n",
       "</div>"
      ],
      "text/plain": [
       "         Population  Murder.Rate\n",
       "count  5.000000e+01    50.000000\n",
       "mean   6.162876e+06     4.066000\n",
       "std    6.848235e+06     1.915736\n",
       "min    5.636260e+05     0.900000\n",
       "25%    1.833004e+06     2.425000\n",
       "50%    4.436370e+06     4.000000\n",
       "75%    6.680312e+06     5.550000\n",
       "max    3.725396e+07    10.300000"
      ]
     },
     "execution_count": 18,
     "metadata": {},
     "output_type": "execute_result"
    }
   ],
   "source": [
    "df_dl.describe()"
   ]
  },
  {
   "cell_type": "markdown",
   "id": "62d56a2a",
   "metadata": {},
   "source": [
    "Mô tả trực quan hóa dữ liệu định lượng"
   ]
  },
  {
   "cell_type": "code",
   "execution_count": 19,
   "id": "31ed1a4f",
   "metadata": {},
   "outputs": [],
   "source": [
    "import matplotlib.pyplot as plt\n",
    "%matplotlib inline"
   ]
  },
  {
   "cell_type": "code",
   "execution_count": 21,
   "id": "9b52a262",
   "metadata": {},
   "outputs": [
    {
     "data": {
      "image/png": "[encoded data removed]",
      "text/plain": [
       "<Figure size 432x288 with 1 Axes>"
      ]
     },
     "metadata": {
      "needs_background": "light"
     },
     "output_type": "display_data"
    }
   ],
   "source": [
    "boxplot = df_dl.boxplot(column=['Population', 'Murder.Rate'])"
   ]
  },
  {
   "cell_type": "code",
   "execution_count": 22,
   "id": "3d691cfe",
   "metadata": {},
   "outputs": [
    {
     "data": {
      "text/plain": [
       "<AxesSubplot:>"
      ]
     },
     "execution_count": 22,
     "metadata": {},
     "output_type": "execute_result"
    },
    {
     "data": {
      "image/png": "[encoded data removed]",
      "text/plain": [
       "<Figure size 432x288 with 1 Axes>"
      ]
     },
     "metadata": {
      "needs_background": "light"
     },
     "output_type": "display_data"
    }
   ],
   "source": [
    "df_dl.boxplot(column=['Murder.Rate'])"
   ]
  },
  {
   "cell_type": "markdown",
   "id": "edd27c6a",
   "metadata": {},
   "source": [
    "Xem xét mối quan hệ giữa 2 biến định lượng có thể sử dụng công cụ trực quan scatterplot"
   ]
  },
  {
   "cell_type": "code",
   "execution_count": 24,
   "id": "63cd3e0f",
   "metadata": {},
   "outputs": [
    {
     "data": {
      "image/png": "[encoded data removed]",
      "text/plain": [
       "<Figure size 432x288 with 1 Axes>"
      ]
     },
     "metadata": {
      "needs_background": "light"
     },
     "output_type": "display_data"
    }
   ],
   "source": [
    "sc = df_dl.plot.scatter(x ='Murder.Rate', y = 'Population', c = 'DarkBlue')"
   ]
  },
  {
   "cell_type": "markdown",
   "id": "c154188a",
   "metadata": {},
   "source": [
    "Mối quan hệ giữa 2 cột dữ liệu định lượng còn được biểu hiện qua hệ số tương quan (correlation). Trong pandas có thể tính hệ số này như sau:"
   ]
  },
  {
   "cell_type": "code",
   "execution_count": 25,
   "id": "41b1c86d",
   "metadata": {},
   "outputs": [
    {
     "data": {
      "text/html": [
       "<div>\n",
       "<style scoped>\n",
       "    .dataframe tbody tr th:only-of-type {\n",
       "        vertical-align: middle;\n",
       "    }\n",
       "\n",
       "    .dataframe tbody tr th {\n",
       "        vertical-align: top;\n",
       "    }\n",
       "\n",
       "    .dataframe thead th {\n",
       "        text-align: right;\n",
       "    }\n",
       "</style>\n",
       "<table border=\"1\" class=\"dataframe\">\n",
       "  <thead>\n",
       "    <tr style=\"text-align: right;\">\n",
       "      <th></th>\n",
       "      <th>Population</th>\n",
       "      <th>Murder.Rate</th>\n",
       "    </tr>\n",
       "  </thead>\n",
       "  <tbody>\n",
       "    <tr>\n",
       "      <th>Population</th>\n",
       "      <td>1.000000</td>\n",
       "      <td>0.182069</td>\n",
       "    </tr>\n",
       "    <tr>\n",
       "      <th>Murder.Rate</th>\n",
       "      <td>0.182069</td>\n",
       "      <td>1.000000</td>\n",
       "    </tr>\n",
       "  </tbody>\n",
       "</table>\n",
       "</div>"
      ],
      "text/plain": [
       "             Population  Murder.Rate\n",
       "Population     1.000000     0.182069\n",
       "Murder.Rate    0.182069     1.000000"
      ]
     },
     "execution_count": 25,
     "metadata": {},
     "output_type": "execute_result"
    }
   ],
   "source": [
    "df_dl.corr(method='pearson')"
   ]
  },
  {
   "cell_type": "markdown",
   "id": "8a68c6c6",
   "metadata": {},
   "source": [
    "BÀI TẬP: Bạn hãy tìm hiểu về hệ số tương quan (correlation), cách đọc và giải thích ý nghĩa hệ số tương quan."
   ]
  },
  {
   "cell_type": "markdown",
   "id": "5d42e17e",
   "metadata": {},
   "source": [
    "CÂU TRẢ LỜI"
   ]
  },
  {
   "cell_type": "code",
   "execution_count": null,
   "id": "c2ffa202",
   "metadata": {},
   "outputs": [],
   "source": []
  }
 ],
 "metadata": {
  "kernelspec": {
   "display_name": "Python 3 (ipykernel)",
   "language": "python",
   "name": "python3"
  },
  "language_info": {
   "codemirror_mode": {
    "name": "ipython",
    "version": 3
   },
   "file_extension": ".py",
   "mimetype": "text/x-python",
   "name": "python",
   "nbconvert_exporter": "python",
   "pygments_lexer": "ipython3",
   "version": "3.7.11"
  }
 },
 "nbformat": 4,
 "nbformat_minor": 5
}
